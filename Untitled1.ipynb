{
  "nbformat": 4,
  "nbformat_minor": 0,
  "metadata": {
    "colab": {
      "provenance": [],
      "authorship_tag": "ABX9TyPNJuNUVy7TTmsuq7wIpSvh",
      "include_colab_link": true
    },
    "kernelspec": {
      "name": "python3",
      "display_name": "Python 3"
    },
    "language_info": {
      "name": "python"
    }
  },
  "cells": [
    {
      "cell_type": "markdown",
      "metadata": {
        "id": "view-in-github",
        "colab_type": "text"
      },
      "source": [
        "<a href=\"https://colab.research.google.com/github/veronicaperon/phython/blob/main/Untitled1.ipynb\" target=\"_parent\"><img src=\"https://colab.research.google.com/assets/colab-badge.svg\" alt=\"Open In Colab\"/></a>"
      ]
    },
    {
      "cell_type": "markdown",
      "source": [
        ":"
      ],
      "metadata": {
        "id": "AMQtTn3C78m0"
      }
    },
    {
      "cell_type": "code",
      "source": [
        "import pandas as pd"
      ],
      "metadata": {
        "id": "Bf6xjtRO98hw"
      },
      "execution_count": null,
      "outputs": []
    },
    {
      "cell_type": "markdown",
      "source": [
        "dados= pd.read_csv(\"https://docs.google.com/spreadsheets/d/e/2PACX-1vSOx1LgXkusJ1ZE_ec42K-nFx6TE3lB2wcVKOzqvkd8-YWSQUTe_fxCmPhRdmBBoRaUtB_aIm-iMNbb/pubhtml?gid=1262153527&single=true\")"
      ],
      "metadata": {
        "id": "DRjDZiXB-Hx2"
      }
    },
    {
      "cell_type": "markdown",
      "source": [
        "**Curso de desenvolvimento de sistemas** 📽"
      ],
      "metadata": {
        "id": "yTq36fcZ8Bcj"
      }
    }
  ]
}